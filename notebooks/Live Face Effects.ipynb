{
 "cells": [
  {
   "cell_type": "markdown",
   "id": "1b8bf56d",
   "metadata": {},
   "source": [
    "<h2><u>MediaPipe Face Mesh 468 Landmarks</u><h2>\n",
    "<img src=\"468 landmarks.jpg\" />"
   ]
  },
  {
   "cell_type": "markdown",
   "id": "aa68137d",
   "metadata": {},
   "source": [
    "<h2><u>How to find regions of interestsed?</u><h2>\n",
    "<img src=\"regions.jpg\" />"
   ]
  },
  {
   "cell_type": "markdown",
   "id": "e12c5d7a",
   "metadata": {},
   "source": [
    "<h2><u>Desired Output</u><h2>\n",
    "<img src=\"images/output.jpg\" />"
   ]
  },
  {
   "cell_type": "markdown",
   "id": "74fb4edd",
   "metadata": {},
   "source": [
    "<h2><u>Implementations</u></h2>"
   ]
  },
  {
   "cell_type": "code",
   "execution_count": 49,
   "id": "b7f5c7f5",
   "metadata": {},
   "outputs": [],
   "source": [
    "import os\n",
    "import cv2 # pip install opencv-python\n",
    "import time\n",
    "import numpy as np # pip install numpy\n",
    "import mediapipe as mp # pip install mediapipe"
   ]
  },
  {
   "cell_type": "code",
   "execution_count": 61,
   "id": "41c1a6d4",
   "metadata": {},
   "outputs": [],
   "source": [
    "mp_face_mesh = mp.solutions.face_mesh\n",
    "\n",
    "face_mesh = mp_face_mesh.FaceMesh ( \n",
    "    max_num_faces=10,\n",
    "    static_image_mode=False,\n",
    "    min_detection_confidence=0.8,\n",
    "    min_tracking_confidence=0.8\n",
    ")"
   ]
  },
  {
   "cell_type": "code",
   "execution_count": 62,
   "id": "b0034a0d",
   "metadata": {},
   "outputs": [],
   "source": [
    "num_icons = []\n",
    "effect_icons = {}\n",
    "icon_root = \"../icons\"\n",
    "num_icon_root = \"../icons/ui/nums\"\n",
    "num_icon_path = os.path.join(icon_root, \"ui/nums\")\n",
    "default_icon_path = os.path.join(icon_root, \"ui/na.png\")\n",
    "files = os.listdir(num_icon_root)\n",
    "effects = [\"eye\", \"shade\", \"nose\", \"cigar\", \"mustache\", \"mask\"]\n",
    "current_effect = None\n",
    "effect_icon_counter = {\n",
    "    \"eye\": 0,\n",
    "    \"shade\": 0,\n",
    "    \"nose\": 0,\n",
    "    \"cigar\": 0,\n",
    "    \"mustache\": 0,\n",
    "    \"mask\": 0\n",
    "}\n",
    "current_effect_icons = {\n",
    "    \"eye\": None,\n",
    "    \"shade\": None,\n",
    "    \"nose\": None,\n",
    "    \"cigar\": None,\n",
    "    \"mustache\": None,\n",
    "    \"mask\": None\n",
    "}\n",
    "effect_commands = {\n",
    "    ord('1'): \"eye\",\n",
    "    ord('2'): \"shade\",\n",
    "    ord('3'): \"nose\",\n",
    "    ord('4'): \"mustache\",\n",
    "    ord('5'): \"cigar\",\n",
    "    ord('6'): \"mask\",\n",
    "}\n",
    "status_panel_effect_icon_cordinates = {\n",
    "    \"eye\": {'y': 340, \"y+h\": 370, 'x': 250, \"x+w\": 310},\n",
    "    \"shade\": {'y': 385, \"y+h\": 415, 'x': 250, \"x+w\": 310},\n",
    "    \"nose\": {'y': 430, \"y+h\": 460, 'x': 250, \"x+w\": 310},\n",
    "    \"mustache\": {'y': 475, \"y+h\": 505, 'x': 250, \"x+w\": 310},\n",
    "    \"cigar\": {'y': 520, \"y+h\": 550, 'x': 250, \"x+w\": 310},\n",
    "    \"mask\": {'y': 565, \"y+h\": 595, 'x': 250, \"x+w\": 310}\n",
    "}\n",
    "inc_dec_commands = [ord('+'), ord('-')]\n",
    "\n",
    "for effect in effects:\n",
    "    icons = os.listdir(os.path.join(icon_root, effect))\n",
    "    effect_icons[effect] = icons\n",
    "    \n",
    "for file in files:\n",
    "    icon = cv2.imread(os.path.join(num_icon_root, file))\n",
    "    icon = cv2.resize(icon, (30, 30))\n",
    "    num_icons.append(icon)"
   ]
  },
  {
   "cell_type": "code",
   "execution_count": 63,
   "id": "41a4b71e",
   "metadata": {},
   "outputs": [],
   "source": [
    "def get_landmarks(image):\n",
    "    landmarks = []\n",
    "    height, width = image.shape[0:2]\n",
    "    image = cv2.cvtColor(image, cv2.COLOR_BGR2RGB)\n",
    "    face_mesh_results = face_mesh.process(image)\n",
    "    image = cv2.cvtColor(image, cv2.COLOR_RGB2BGR)\n",
    "    \n",
    "    if face_mesh_results.multi_face_landmarks:\n",
    "        for face_landmarks in face_mesh_results.multi_face_landmarks:\n",
    "            current = {}\n",
    "            for i, landmark in enumerate(face_landmarks.landmark):\n",
    "                x = landmark.x\n",
    "                y = landmark.y\n",
    "                relative_x = int(x * width)\n",
    "                relative_y = int(y * height)\n",
    "                current[i + 1] = (relative_x, relative_y)\n",
    "            landmarks.append(current)\n",
    "            \n",
    "    return landmarks"
   ]
  },
  {
   "cell_type": "code",
   "execution_count": 64,
   "id": "2e30a6c2",
   "metadata": {},
   "outputs": [],
   "source": [
    "def get_effect_cordinates(landmarks):\n",
    "    effect_cordinates = {\n",
    "        \"eye_left\": (landmarks[30], (landmarks[158][0], landmarks[145][1])),\n",
    "        \"eye_right\": (landmarks[287], (landmarks[260][0], landmarks[381][1])),\n",
    "        \"shade\": (landmarks[71], (landmarks[294][0], landmarks[119][1])),\n",
    "        \"nose\": ((landmarks[51][0], landmarks[4][1]), (landmarks[281][0], landmarks[3][1])),\n",
    "        \"cigar\": (landmarks[16], (landmarks[273][0], landmarks[195][1])),\n",
    "        \"mustache\": ((landmarks[148][0], landmarks[3][1]), ((landmarks[148][0]+(landmarks[3][0]-landmarks[148][0])*2), landmarks[41][1])),\n",
    "        \"mask\": (landmarks[124], (landmarks[324][0], landmarks[153][1]))\n",
    "    }\n",
    "    \n",
    "    return effect_cordinates"
   ]
  },
  {
   "cell_type": "code",
   "execution_count": 65,
   "id": "7e2e4f02",
   "metadata": {},
   "outputs": [],
   "source": [
    "def remove_image_whitespace(image, blend, x, y, threshold=225):\n",
    "    for i in range(blend.shape[0]):\n",
    "        for j in range(blend.shape[1]):\n",
    "            for k in range(3):\n",
    "                if blend[i][j][k] > threshold:\n",
    "                    blend[i][j][k] = image[i + y][j + x][k]"
   ]
  },
  {
   "cell_type": "code",
   "execution_count": 66,
   "id": "12aa1611",
   "metadata": {},
   "outputs": [],
   "source": [
    "def add_effect(image, effect, icon_path, cordinates):\n",
    "    item = cv2.imread(icon_path)\n",
    "    pt1, pt2 = cordinates[effect]\n",
    "    x, y, x_w, y_h = pt1[0], pt1[1], pt2[0], pt2[1]\n",
    "    cropped = image[y:y_h, x:x_w, :]\n",
    "    h, w, _ = cropped.shape\n",
    "    item = cv2.resize(item, (w, h))\n",
    "    blend = cv2.addWeighted(cropped, 0, item, 1.0, 0)\n",
    "    \n",
    "    return blend, x, y, x_w, y_h"
   ]
  },
  {
   "cell_type": "code",
   "execution_count": 67,
   "id": "65386b2f",
   "metadata": {},
   "outputs": [],
   "source": [
    "def set_effect_icon(effect, step=1):\n",
    "    effect_icon_counter[effect] += step\n",
    "    \n",
    "    if step > 0:\n",
    "        if effect_icon_counter[effect] >= len(effect_icons[effect]):\n",
    "            diff = abs(len(effect_icons[effect]) - effect_icon_counter[effect])\n",
    "            effect_icon_counter[effect] = diff\n",
    "    elif step < 0:\n",
    "        if effect_icon_counter[effect] < -len(effect_icons[effect]):\n",
    "            diff = abs(-len(effect_icons[effect]) - effect_icon_counter[effect])\n",
    "            effect_icon_counter[effect] = len(effect_icons[effect]) - diff\n",
    "    \n",
    "    icon_name = effect_icons[effect][effect_icon_counter[effect]]\n",
    "    icon_path = os.path.join(os.path.join(icon_root, effect), icon_name)\n",
    "    current_effect_icons[effect] = icon_path"
   ]
  },
  {
   "cell_type": "code",
   "execution_count": 68,
   "id": "3ea89163",
   "metadata": {},
   "outputs": [],
   "source": [
    "prev_frame_time = 0\n",
    "\n",
    "def calc_fps(current_frame_time):\n",
    "    global prev_frame_time\n",
    "    fps = int(1/(current_frame_time - prev_frame_time))\n",
    "    prev_frame_time = current_frame_time\n",
    "    \n",
    "    return fps"
   ]
  },
  {
   "cell_type": "code",
   "execution_count": 69,
   "id": "0e7b992f",
   "metadata": {},
   "outputs": [],
   "source": [
    "def draw_status_panel_effect_icons(panel):\n",
    "    for k, v in current_effect_icons.items():\n",
    "        cor = status_panel_effect_icon_cordinates[k]\n",
    "        if v is None:\n",
    "            icon = cv2.imread(default_icon_path)\n",
    "        else:\n",
    "            icon = cv2.imread(current_effect_icons[k])\n",
    "        icon = cv2.resize(icon, (60, 30))\n",
    "        panel[cor['y']:cor[\"y+h\"], cor['x']:cor[\"x+w\"], :] = icon"
   ]
  },
  {
   "cell_type": "code",
   "execution_count": 70,
   "id": "20627d8a",
   "metadata": {},
   "outputs": [],
   "source": [
    "def draw_face_effects(image, cordinates):\n",
    "    for effect, icon_path in current_effect_icons.items():\n",
    "        if effect == \"eye\":\n",
    "            for effect in [\"eye_left\", \"eye_right\"]:\n",
    "                if icon_path is not None:\n",
    "                    blend, x, y, x_w, y_h = add_effect(image, effect, icon_path, cordinates)\n",
    "                    remove_image_whitespace(image, blend, x, y)\n",
    "                    image[y:y_h, x:x_w, :] = blend\n",
    "        else:\n",
    "            if icon_path is not None:\n",
    "                blend, x, y, x_w, y_h = add_effect(image, effect, icon_path, cordinates)\n",
    "                remove_image_whitespace(image, blend, x, y)\n",
    "                image[y:y_h, x:x_w, :] = blend"
   ]
  },
  {
   "cell_type": "code",
   "execution_count": 71,
   "id": "0fc45c25",
   "metadata": {},
   "outputs": [],
   "source": [
    "def setup_status_panel(display, fps, num_faces=1, eye_font_col=(0, 0, 255), shade_font_col=(0, 0, 255),\n",
    "                       nose_font_col=(0, 0, 255), mustache_font_col=(0, 0, 255), \n",
    "                       cigar_font_col=(0, 0, 255), mask_font_col=(0, 0, 255)):\n",
    "    display[340:370, 32:62, :] = num_icons[0]\n",
    "    display[385:415, 32:62, :] = num_icons[1]\n",
    "    display[430:460, 32:62, :] = num_icons[2]\n",
    "    display[475:505, 32:62, :] = num_icons[3]\n",
    "    display[520:550, 32:62, :] = num_icons[4]\n",
    "    display[565:595, 32:62, :] = num_icons[5]\n",
    "    \n",
    "    cv2.circle(display, (170, 225), 80, (255, 0, 0), 2)\n",
    "    cv2.putText(display, \"FPS: {}\".format(fps), (245, 28), cv2.FONT_HERSHEY_SIMPLEX, 0.6, (0, 255, 192), 1)\n",
    "    cv2.putText(display, \"LIVE\", (35, 60), cv2.FONT_HERSHEY_SIMPLEX, 1.1, (0, 0, 255), 2)\n",
    "    cv2.putText(display, \"Face Effects\", (35, 100), cv2.FONT_HERSHEY_SIMPLEX, 1.1, (255, 255, 255), 2)\n",
    "    cv2.putText(display, \"Faces\", (125, 210), cv2.FONT_HERSHEY_SIMPLEX, 1, (255, 0, 0), 2)\n",
    "    cv2.putText(display, \"{:02}\".format(num_faces), (128, 270), cv2.FONT_HERSHEY_SIMPLEX, 2, (255, 0, 0), 3)\n",
    "    cv2.putText(display, \"Eyes\", (120, 362), cv2.FONT_HERSHEY_SIMPLEX, 0.6, eye_font_col, 1)\n",
    "    cv2.putText(display, \"Shade\", (120, 410), cv2.FONT_HERSHEY_SIMPLEX, 0.6, shade_font_col, 1)\n",
    "    cv2.putText(display, \"Nose\", (120, 455), cv2.FONT_HERSHEY_SIMPLEX, 0.6, nose_font_col, 1)\n",
    "    cv2.putText(display, \"Mustache\", (120, 500), cv2.FONT_HERSHEY_SIMPLEX, 0.6, mustache_font_col, 1)\n",
    "    cv2.putText(display, \"Cigar\", (120, 544), cv2.FONT_HERSHEY_SIMPLEX, 0.6, cigar_font_col, 1)\n",
    "    cv2.putText(display, \"Mask\", (120, 588), cv2.FONT_HERSHEY_SIMPLEX, 0.6, mask_font_col, 1)"
   ]
  },
  {
   "cell_type": "code",
   "execution_count": 72,
   "id": "74a0e569",
   "metadata": {},
   "outputs": [],
   "source": [
    "def app(video_source):\n",
    "    global current_effect\n",
    "    pre_k = None\n",
    "    \n",
    "    display = np.ones((650, 1300, 3), dtype=\"uint8\")\n",
    "    prev_frame_time, current_frame_time, fps = 0, 0, 0\n",
    "    source = cv2.VideoCapture(video_source)\n",
    "    \n",
    "    while True:\n",
    "        ret, frame = source.read()\n",
    "        if ret:\n",
    "            current_time = time.time()\n",
    "            fps = calc_fps(current_time)\n",
    "            height, width, _ = frame.shape\n",
    "            image = cv2.resize(frame, (950, 650))\n",
    "            \n",
    "            landmarks = get_landmarks(image)\n",
    "            faces = len(landmarks)\n",
    "            \n",
    "            if faces > 0:\n",
    "                for l in landmarks:\n",
    "                    cordinates = get_effect_cordinates(l)\n",
    "                    draw_face_effects(image, cordinates)\n",
    "                display[:, 350:, :] = image\n",
    "            \n",
    "            status_panel = np.zeros((650, 350, 3))\n",
    "            draw_status_panel_effect_icons(status_panel)\n",
    "            display[:, :350, :] = status_panel\n",
    "            \n",
    "            if current_effect is None:\n",
    "                setup_status_panel(display, fps, num_faces=faces)\n",
    "            elif current_effect == \"eye\":\n",
    "                setup_status_panel(display, fps, num_faces=faces, eye_font_col=(0, 255, 0))\n",
    "            elif current_effect == \"shade\":\n",
    "                setup_status_panel(display, fps, num_faces=faces, shade_font_col=(0, 255, 0))\n",
    "            elif current_effect == \"nose\":\n",
    "                setup_status_panel(display, fps, num_faces=faces, nose_font_col=(0, 255, 0))\n",
    "            elif current_effect == \"mustache\":\n",
    "                setup_status_panel(display, fps, num_faces=faces, mustache_font_col=(0, 255, 0))\n",
    "            elif current_effect == \"cigar\":\n",
    "                setup_status_panel(display, fps, num_faces=faces, cigar_font_col=(0, 255, 0))\n",
    "            elif current_effect == \"mask\":\n",
    "                setup_status_panel(display, fps, num_faces=faces, mask_font_col=(0, 255, 0))\n",
    "            \n",
    "            cv2.imshow(\"Live Face Effects\", display)\n",
    "            k = cv2.waitKey(1)\n",
    "            \n",
    "            if k in effect_commands:\n",
    "                if k == pre_k:\n",
    "                    current_effect_icons[current_effect] = current_effect = pre_k = None\n",
    "                else:\n",
    "                    current_effect, pre_k = effect_commands[k], k\n",
    "            \n",
    "            elif k in inc_dec_commands and current_effect is not None:\n",
    "                if k == inc_dec_commands[0]:\n",
    "                    set_effect_icon(current_effect)\n",
    "                elif k == inc_dec_commands[1]:\n",
    "                    set_effect_icon(current_effect, step=-1)\n",
    "            elif k == 27:\n",
    "                break\n",
    "        else:\n",
    "            break\n",
    "    \n",
    "    source.release()\n",
    "    cv2.destroyAllWindows()"
   ]
  },
  {
   "cell_type": "code",
   "execution_count": 73,
   "id": "19c6f924",
   "metadata": {},
   "outputs": [],
   "source": [
    "app(0)"
   ]
  },
  {
   "cell_type": "markdown",
   "id": "89ce48a3",
   "metadata": {},
   "source": [
    "<h3><u>References</u></h3>\n",
    "\n",
    "<ul>\n",
    "    <li><a href=\"https://google.github.io/mediapipe/solutions/face_mesh.html\">MediaPipe Face Mesh</a></li>\n",
    "</ul>"
   ]
  },
  {
   "cell_type": "code",
   "execution_count": null,
   "id": "0dffed41",
   "metadata": {},
   "outputs": [],
   "source": []
  }
 ],
 "metadata": {
  "kernelspec": {
   "display_name": "Python 3 (ipykernel)",
   "language": "python",
   "name": "python3"
  },
  "language_info": {
   "codemirror_mode": {
    "name": "ipython",
    "version": 3
   },
   "file_extension": ".py",
   "mimetype": "text/x-python",
   "name": "python",
   "nbconvert_exporter": "python",
   "pygments_lexer": "ipython3",
   "version": "3.7.2"
  }
 },
 "nbformat": 4,
 "nbformat_minor": 5
}
